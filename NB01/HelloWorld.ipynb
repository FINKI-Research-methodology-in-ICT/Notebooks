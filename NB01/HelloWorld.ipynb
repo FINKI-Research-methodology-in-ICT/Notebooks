{
 "cells": [
  {
   "cell_type": "markdown",
   "metadata": {
    "collapsed": true
   },
   "source": [
    "# Hello World! \n",
    "\n",
    "This is a `Markdown`, in other words, a `text` cell. "
   ]
  },
  {
   "cell_type": "code",
   "execution_count": null,
   "metadata": {},
   "outputs": [],
   "source": [
    "# This is a code cell. This notebook uses a Python3 kernel (see upper right of the notebook). \n",
    "# So, we should be coding in Python! \n",
    "\n",
    "# Run the following line by ctrl+enter or cmd+enter. Feel free to change Hello World text with something else.\n",
    "\n",
    "print('Hello World!')"
   ]
  },
  {
   "cell_type": "markdown",
   "metadata": {},
   "source": [
    "## Changing cell types\n",
    "\n",
    "Double click this cell, and change its type to `Code` using the dropdown menu in the toolbar.\n",
    "\n",
    "![](type_select.png)\n",
    "\n",
    "Hit `crtl+enter` or `cmd+enter` (OSX) and try to run this cell as a Python code block. Python will throw you an error, given that this cell does not follow its syntax at all :)\n",
    "\n",
    "Switch the type of this cell back to `Markdown` and run it again (`crtl+enter` or `cmd+enter` (OSX)) to restore its initial state. "
   ]
  },
  {
   "cell_type": "markdown",
   "metadata": {},
   "source": [
    "## Some useful keyboard shortcuts to work with JN\n",
    "\n",
    "Find more on [this website](https://www.cheatography.com/weidadeyue/cheat-sheets/jupyter-notebook/)."
   ]
  },
  {
   "cell_type": "markdown",
   "metadata": {},
   "source": [
    "## Defining Python functions in JN\n",
    "\n",
    "Function definitions follows the traditional Python syntax. \n",
    "\n",
    "Before calling a function defined in the notebook, make sure that the cell containing the function definition is executed."
   ]
  },
  {
   "cell_type": "code",
   "execution_count": null,
   "metadata": {},
   "outputs": [],
   "source": [
    "# In this cell, we define the function. \n",
    "# You have to run this cell before executing the next one. \n",
    "# Otherwise function wont be recognized in the scope of the following cells. \n",
    "def HelloFunction():\n",
    "    print('Hello World from function')"
   ]
  },
  {
   "cell_type": "code",
   "execution_count": null,
   "metadata": {},
   "outputs": [],
   "source": [
    "# Call HelloFunction\n",
    "\n",
    "HelloFunction()"
   ]
  },
  {
   "cell_type": "markdown",
   "metadata": {},
   "source": [
    "## Using your custom Python scripts (*.py) in JN\n",
    "\n",
    "You need to make sure that the `*.py` file is in the same directory with your notebook. \n",
    "\n",
    "I know you had enough of the `Hello World` in this tutorial. Let's have different flavors of them from the `Hello.py` script. "
   ]
  },
  {
   "cell_type": "code",
   "execution_count": 1,
   "metadata": {},
   "outputs": [],
   "source": [
    "# First we need to use magic command %run followed by the name of the python script we'd like to use\n",
    "%run Hello.py"
   ]
  },
  {
   "cell_type": "code",
   "execution_count": 2,
   "metadata": {},
   "outputs": [],
   "source": [
    "from Hello import HelloAdele\n",
    "from Hello import HelloLionelRichie\n",
    "from Hello import WhatKindaWorld"
   ]
  },
  {
   "cell_type": "code",
   "execution_count": 5,
   "metadata": {},
   "outputs": [],
   "source": [
    "# Listen to your favorite Hello song on YouTube by calling the corresponding function. \n",
    "# If you wonder to what kind of world we've been keep saying hello, run WhatKindaWorld().\n",
    "\n"
   ]
  },
  {
   "cell_type": "markdown",
   "metadata": {},
   "source": [
    "## Let's see some more Python code\n",
    "\n",
    "Your anaconda installation comes with more than 720 Python packages. You can do much more than printing text and opening YouTube videos. In this section, we will use some of them for demonstration. "
   ]
  },
  {
   "cell_type": "markdown",
   "metadata": {},
   "source": [
    "### Use pandas to create a DataFrame"
   ]
  },
  {
   "cell_type": "markdown",
   "metadata": {},
   "source": [
    "Pandas is one of the most famous Python libraries for data manipulation. Pandas tidy dataframe is commonly used by Python community to analyze and visualize data. In the following cell, you will see how to create a simple dataframe and display it as a table. "
   ]
  },
  {
   "cell_type": "code",
   "execution_count": null,
   "metadata": {},
   "outputs": [],
   "source": [
    "# This is how you import a python module\n",
    "import pandas as pd\n",
    "\n",
    "# From this point on, you can access pandas by the proxy name pd \n",
    "\n",
    "# Variable raw_data has the type Dictionary. To find more about \n",
    "# Dictionaries in Python you can visit this link:\n",
    "# https://realpython.com/python-dicts/\n",
    "\n",
    "raw_data = {'first_name': ['Jason', 'Molly', 'Tina', 'Jake', 'Amy'], \n",
    "        'last_name': ['Miller', 'Jacobson', 'Ali', 'Milner', 'Cooze'], \n",
    "        'age': [42, 52, 36, 24, 73], \n",
    "        'preTestScore': [4, 24, 31, 2, 3],\n",
    "        'postTestScore': [25, 94, 57, 62, 70]}\n",
    "\n",
    "# Once you have a dictionary variable, you can easily convert it to a dataframe \n",
    "# by telling Pandas column names:\n",
    "\n",
    "df = pd.DataFrame(raw_data, columns = ['first_name', 'last_name', 'age', 'preTestScore', 'postTestScore'])\n",
    "\n",
    "# Let's see how our dataframe looks like\n",
    "df"
   ]
  },
  {
   "cell_type": "markdown",
   "metadata": {},
   "source": [
    "### Read a data from a csv file into a DataFrame\n",
    "\n",
    "In the directory at which this notebook is present, you will find `iris.csv` which belongs to the [Iris flower dataset](https://en.wikipedia.org/wiki/Iris_flower_data_set).\n",
    "\n",
    "In the following cell, we will read this `csv` file into a `pandas` dataframe by simply calling `read_csv` method. Then we will show first five data entries in the dataset by calling the `head` method. "
   ]
  },
  {
   "cell_type": "code",
   "execution_count": null,
   "metadata": {},
   "outputs": [],
   "source": [
    "iris = pd.read_csv('iris.csv')\n",
    "iris.head()\n",
    "\n",
    "# Hint: run iris? to see its type\n",
    "# Hint: Change iris.head() with iris.tail() above to see last 5 entries instead. "
   ]
  },
  {
   "cell_type": "markdown",
   "metadata": {},
   "source": [
    "You can easily see a statistical summary of your dataset by evoking `describe()` method. "
   ]
  },
  {
   "cell_type": "code",
   "execution_count": null,
   "metadata": {},
   "outputs": [],
   "source": [
    "iris.describe()"
   ]
  },
  {
   "cell_type": "markdown",
   "metadata": {},
   "source": [
    "### Some basic visualizations using Iris dataset\n",
    "\n",
    "Looking at tables and their statistical summaries are useful, but they can't beat data visualization. In the following code cell, we use matplotlib to see the correlations between `width` and `height` of the iris flower for its sepal and petal regions. \n",
    "\n",
    "Hint: Petal length-width correlation is higher than that of sepal length-width.\n",
    "\n",
    "![](http://s5047.pcdn.co/wp-content/uploads/2015/04/iris_petal_sepal.png)"
   ]
  },
  {
   "cell_type": "code",
   "execution_count": null,
   "metadata": {},
   "outputs": [],
   "source": [
    "# Import matplotlib. Use plt as proxy to access package modules\n",
    "import matplotlib.pyplot as plt\n",
    "\n",
    "# Create a figure \n",
    "plt.figure()\n",
    "\n",
    "# Split figure into subplots 1 row, 2 columns \n",
    "fig,ax=plt.subplots(1,2,figsize=(17, 9))\n",
    "\n",
    "# Use iris.plot() method to create scatter plots. Remember that \n",
    "# iris is an pandas object. To see the full reference of \n",
    "# pandas.DataFrame.plot visit: \n",
    "# https://pandas.pydata.org/pandas-docs/version/0.23.4/generated/pandas.DataFrame.plot.html\n",
    "\n",
    "iris.plot(x=\"sepal.length\",y=\"sepal.width\",kind=\"scatter\",ax=ax[0],sharex=False,sharey=False,label=\"sepal\",color='r')\n",
    "iris.plot(x=\"petal.length\",y=\"petal.width\",kind=\"scatter\",ax=ax[1],sharex=False,sharey=False,label=\"petal\",color='b')\n",
    "\n",
    "# Set axes labels for subplots. \n",
    "ax[0].set(title='Sepal comparasion ', ylabel='sepal-width')\n",
    "ax[1].set(title='Petal Comparasion',  ylabel='petal-width')\n",
    "ax[0].legend()\n",
    "ax[1].legend()\n",
    "\n",
    "# Show the plots\n",
    "plt.show()"
   ]
  }
 ],
 "metadata": {
  "kernelspec": {
   "display_name": "Python 3",
   "language": "python",
   "name": "python3"
  },
  "language_info": {
   "codemirror_mode": {
    "name": "ipython",
    "version": 3
   },
   "file_extension": ".py",
   "mimetype": "text/x-python",
   "name": "python",
   "nbconvert_exporter": "python",
   "pygments_lexer": "ipython3",
   "version": "3.7.0"
  }
 },
 "nbformat": 4,
 "nbformat_minor": 2
}

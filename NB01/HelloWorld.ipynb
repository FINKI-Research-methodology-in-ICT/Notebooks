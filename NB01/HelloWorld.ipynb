{
 "cells": [
  {
   "cell_type": "markdown",
   "metadata": {
    "collapsed": true
   },
   "source": [
    "# Hello World! \n",
    "\n",
    "This is a `Markdown`, in other words, a `text` cell. "
   ]
  },
  {
   "cell_type": "code",
   "execution_count": 1,
   "metadata": {},
   "outputs": [
    {
     "name": "stdout",
     "output_type": "stream",
     "text": [
      "Hello World!\n"
     ]
    }
   ],
   "source": [
    "# This is a code cell. This notebook uses a Python3 kernel (see upper right of the notebook). \n",
    "# So, we should be coding in Python! \n",
    "\n",
    "# Run the following line by ctrl+enter or cmd+enter. Feel free to change Hello World text with something else.\n",
    "\n",
    "print('Hello World!')"
   ]
  },
  {
   "cell_type": "markdown",
   "metadata": {},
   "source": [
    "## Changing cell types\n",
    "\n",
    "Double click this cell, and change its type to `Code` using the dropdown menu in the toolbar.\n",
    "\n",
    "![](type_select.png)\n",
    "\n",
    "Hit `crtl+enter` or `cmd+enter` (OSX) and try to run this cell as a Python code block. Python will throw you an error, given that this cell does not follow its syntax at all :)\n",
    "\n",
    "Switch the type of this cell back to `Markdown` and run it again (`crtl+enter` or `cmd+enter` (OSX)) to restore its initial state. "
   ]
  },
  {
   "cell_type": "markdown",
   "metadata": {},
   "source": [
    "## Some useful keyboard shortcuts to work with JN\n",
    "\n",
    "Find more on [this website](https://www.cheatography.com/weidadeyue/cheat-sheets/jupyter-notebook/)."
   ]
  },
  {
   "cell_type": "markdown",
   "metadata": {},
   "source": [
    "## Defining Python functions in JN\n",
    "\n",
    "Function definitions follows the traditional Python syntax. \n",
    "\n",
    "Before calling a function defined in the notebook, make sure that the cell containing the function definition is executed."
   ]
  },
  {
   "cell_type": "code",
   "execution_count": 8,
   "metadata": {},
   "outputs": [],
   "source": [
    "# In this cell, we define the function. \n",
    "# You have to run this cell before executing the next one. \n",
    "# Otherwise function wont be recognized in the scope of the following cells. \n",
    "def HelloFunction():\n",
    "    print('Hello World from the function')\n",
    "    print('test')\n",
    "    print('test 2')\n",
    "        "
   ]
  },
  {
   "cell_type": "code",
   "execution_count": 9,
   "metadata": {},
   "outputs": [
    {
     "name": "stdout",
     "output_type": "stream",
     "text": [
      "Hello World from the function\n",
      "test\n",
      "test 2\n"
     ]
    }
   ],
   "source": [
    "# Call HelloFunction\n",
    "\n",
    "HelloFunction()"
   ]
  },
  {
   "cell_type": "markdown",
   "metadata": {},
   "source": [
    "## Using your custom Python scripts (*.py) in JN\n",
    "\n",
    "You need to make sure that the `*.py` file is in the same directory with your notebook. \n",
    "\n",
    "I know you had enough of the `Hello World` in this tutorial. Let's have different flavors of them from the `Hello.py` script. "
   ]
  },
  {
   "cell_type": "code",
   "execution_count": 10,
   "metadata": {},
   "outputs": [],
   "source": [
    "# First we need to use magic command %run followed by the name of the python script we'd like to use\n",
    "%run Hello.py"
   ]
  },
  {
   "cell_type": "code",
   "execution_count": 11,
   "metadata": {},
   "outputs": [],
   "source": [
    "from Hello import HelloAdele\n",
    "from Hello import HelloLionelRichie\n",
    "from Hello import WhatKindaWorld"
   ]
  },
  {
   "cell_type": "code",
   "execution_count": 12,
   "metadata": {},
   "outputs": [],
   "source": [
    "# Listen to your favorite Hello song on YouTube by calling the corresponding function. \n",
    "# If you wonder to what kind of world we've been keep saying hello, run WhatKindaWorld().\n",
    "\n",
    "\n"
   ]
  },
  {
   "cell_type": "markdown",
   "metadata": {},
   "source": [
    "## Using widgets \n",
    "\n",
    "Note to myself. See if requires `conda install -c conda-forge ipywidgets` for Anaconda 2019.07\n",
    "\n",
    "Some fun."
   ]
  },
  {
   "cell_type": "code",
   "execution_count": 13,
   "metadata": {},
   "outputs": [
    {
     "data": {
      "application/vnd.jupyter.widget-view+json": {
       "model_id": "2787a489dd1b49518d888f64fd382453",
       "version_major": 2,
       "version_minor": 0
      },
      "text/plain": [
       "Dropdown(index=2, options=('Select your song', 'Adele', 'Lionel Richie', 'World is'), value='Lionel Richie')"
      ]
     },
     "metadata": {},
     "output_type": "display_data"
    },
    {
     "data": {
      "text/html": [
       "\n",
       "        <iframe\n",
       "            width=\"420\"\n",
       "            height=\"315\"\n",
       "            src=\"https://www.youtube.com/embed/UBYnT8JY7sE\"\n",
       "            frameborder=\"0\"\n",
       "            allowfullscreen\n",
       "        ></iframe>\n",
       "        "
      ],
      "text/plain": [
       "<IPython.lib.display.IFrame at 0x10fcbce10>"
      ]
     },
     "metadata": {},
     "output_type": "display_data"
    }
   ],
   "source": [
    "import ipywidgets as widgets\n",
    "from IPython.display import display, clear_output\n",
    "from IPython.display import IFrame\n",
    "\n",
    "ddown = widgets.Dropdown(\n",
    "    options=['Select your song','Adele', 'Lionel Richie', 'World is'],\n",
    "    value='Select your song',\n",
    "    disabled=False,\n",
    ")\n",
    "\n",
    "\n",
    "def on_change(change):\n",
    "    if change['type'] == 'change' and change['name'] == 'value':\n",
    "        if change['new'] == 'Adele':\n",
    "            lnk = HelloAdele(1)\n",
    "            clear_output(wait=True)\n",
    "            display(ddown)\n",
    "            display(IFrame(src=lnk, width=420, height=315))\n",
    "        elif change['new'] == 'Lionel Richie':\n",
    "            lnk = HelloLionelRichie(1)\n",
    "            clear_output(wait=True)\n",
    "            display(ddown)\n",
    "            display(IFrame(src=lnk, width=420, height=315))\n",
    "        elif change['new'] == 'World is':\n",
    "            lnk = WhatKindaWorld(1)\n",
    "            clear_output(wait=True)\n",
    "            display(ddown)\n",
    "            display(IFrame(src=lnk, width=420, height=315))   \n",
    "        if change['new'] == 'Select your song':  \n",
    "            clear_output(wait=True)\n",
    "            display(ddown)\n",
    "\n",
    "ddown.observe(on_change)\n",
    "\n",
    "display(ddown)"
   ]
  },
  {
   "cell_type": "markdown",
   "metadata": {},
   "source": [
    "## Let's see some more Python code\n",
    "\n",
    "Your anaconda installation comes with more than 720 Python packages. You can do much more than printing text and opening YouTube videos. In this section, we will use some of them for demonstration. "
   ]
  },
  {
   "cell_type": "markdown",
   "metadata": {},
   "source": [
    "### Use pandas to create a DataFrame"
   ]
  },
  {
   "cell_type": "markdown",
   "metadata": {},
   "source": [
    "Pandas is one of the most famous Python libraries for data manipulation. Pandas tidy dataframe is commonly used by Python community to analyze and visualize data. In the following cell, you will see how to create a simple dataframe and display it as a table. "
   ]
  },
  {
   "cell_type": "code",
   "execution_count": 14,
   "metadata": {},
   "outputs": [
    {
     "name": "stderr",
     "output_type": "stream",
     "text": [
      "Matplotlib is building the font cache using fc-list. This may take a moment.\n"
     ]
    },
    {
     "data": {
      "text/html": [
       "<div>\n",
       "<style scoped>\n",
       "    .dataframe tbody tr th:only-of-type {\n",
       "        vertical-align: middle;\n",
       "    }\n",
       "\n",
       "    .dataframe tbody tr th {\n",
       "        vertical-align: top;\n",
       "    }\n",
       "\n",
       "    .dataframe thead th {\n",
       "        text-align: right;\n",
       "    }\n",
       "</style>\n",
       "<table border=\"1\" class=\"dataframe\">\n",
       "  <thead>\n",
       "    <tr style=\"text-align: right;\">\n",
       "      <th></th>\n",
       "      <th>first_name</th>\n",
       "      <th>last_name</th>\n",
       "      <th>age</th>\n",
       "      <th>preTestScore</th>\n",
       "      <th>postTestScore</th>\n",
       "    </tr>\n",
       "  </thead>\n",
       "  <tbody>\n",
       "    <tr>\n",
       "      <td>0</td>\n",
       "      <td>Jason</td>\n",
       "      <td>Miller</td>\n",
       "      <td>42</td>\n",
       "      <td>4</td>\n",
       "      <td>25</td>\n",
       "    </tr>\n",
       "    <tr>\n",
       "      <td>1</td>\n",
       "      <td>Molly</td>\n",
       "      <td>Jacobson</td>\n",
       "      <td>52</td>\n",
       "      <td>24</td>\n",
       "      <td>94</td>\n",
       "    </tr>\n",
       "    <tr>\n",
       "      <td>2</td>\n",
       "      <td>Tina</td>\n",
       "      <td>Ali</td>\n",
       "      <td>36</td>\n",
       "      <td>31</td>\n",
       "      <td>57</td>\n",
       "    </tr>\n",
       "    <tr>\n",
       "      <td>3</td>\n",
       "      <td>Jake</td>\n",
       "      <td>Milner</td>\n",
       "      <td>24</td>\n",
       "      <td>2</td>\n",
       "      <td>62</td>\n",
       "    </tr>\n",
       "    <tr>\n",
       "      <td>4</td>\n",
       "      <td>Amy</td>\n",
       "      <td>Cooze</td>\n",
       "      <td>73</td>\n",
       "      <td>3</td>\n",
       "      <td>70</td>\n",
       "    </tr>\n",
       "  </tbody>\n",
       "</table>\n",
       "</div>"
      ],
      "text/plain": [
       "  first_name last_name  age  preTestScore  postTestScore\n",
       "0      Jason    Miller   42             4             25\n",
       "1      Molly  Jacobson   52            24             94\n",
       "2       Tina       Ali   36            31             57\n",
       "3       Jake    Milner   24             2             62\n",
       "4        Amy     Cooze   73             3             70"
      ]
     },
     "execution_count": 14,
     "metadata": {},
     "output_type": "execute_result"
    }
   ],
   "source": [
    "# This is how you import a python module\n",
    "import pandas as pd\n",
    "\n",
    "# From this point on, you can access pandas by the proxy name pd \n",
    "\n",
    "# Variable raw_data has the type Dictionary. To find more about \n",
    "# Dictionaries in Python you can visit this link:\n",
    "# https://realpython.com/python-dicts/\n",
    "\n",
    "raw_data = {'first_name': ['Jason', 'Molly', 'Tina', 'Jake', 'Amy'], \n",
    "        'last_name': ['Miller', 'Jacobson', 'Ali', 'Milner', 'Cooze'], \n",
    "        'age': [42, 52, 36, 24, 73], \n",
    "        'preTestScore': [4, 24, 31, 2, 3],\n",
    "        'postTestScore': [25, 94, 57, 62, 70]}\n",
    "\n",
    "# Once you have a dictionary variable, you can easily convert it to a dataframe \n",
    "# by telling Pandas column names:\n",
    "\n",
    "df = pd.DataFrame(raw_data, columns = ['first_name', 'last_name', 'age', 'preTestScore', 'postTestScore'])\n",
    "\n",
    "# Let's see how our dataframe looks like\n",
    "df"
   ]
  },
  {
   "cell_type": "markdown",
   "metadata": {},
   "source": [
    "### Read a data from a csv file into a DataFrame\n",
    "\n",
    "In the directory at which this notebook is present, you will find `iris.csv` which belongs to the [Iris flower dataset](https://en.wikipedia.org/wiki/Iris_flower_data_set).\n",
    "\n",
    "In the following cell, we will read this `csv` file into a `pandas` dataframe by simply calling `read_csv` method. Then we will show first five data entries in the dataset by calling the `head` method. "
   ]
  },
  {
   "cell_type": "code",
   "execution_count": 15,
   "metadata": {},
   "outputs": [
    {
     "data": {
      "text/html": [
       "<div>\n",
       "<style scoped>\n",
       "    .dataframe tbody tr th:only-of-type {\n",
       "        vertical-align: middle;\n",
       "    }\n",
       "\n",
       "    .dataframe tbody tr th {\n",
       "        vertical-align: top;\n",
       "    }\n",
       "\n",
       "    .dataframe thead th {\n",
       "        text-align: right;\n",
       "    }\n",
       "</style>\n",
       "<table border=\"1\" class=\"dataframe\">\n",
       "  <thead>\n",
       "    <tr style=\"text-align: right;\">\n",
       "      <th></th>\n",
       "      <th>sepal.length</th>\n",
       "      <th>sepal.width</th>\n",
       "      <th>petal.length</th>\n",
       "      <th>petal.width</th>\n",
       "      <th>variety</th>\n",
       "    </tr>\n",
       "  </thead>\n",
       "  <tbody>\n",
       "    <tr>\n",
       "      <td>0</td>\n",
       "      <td>5.1</td>\n",
       "      <td>3.5</td>\n",
       "      <td>1.4</td>\n",
       "      <td>0.2</td>\n",
       "      <td>Setosa</td>\n",
       "    </tr>\n",
       "    <tr>\n",
       "      <td>1</td>\n",
       "      <td>4.9</td>\n",
       "      <td>3.0</td>\n",
       "      <td>1.4</td>\n",
       "      <td>0.2</td>\n",
       "      <td>Setosa</td>\n",
       "    </tr>\n",
       "    <tr>\n",
       "      <td>2</td>\n",
       "      <td>4.7</td>\n",
       "      <td>3.2</td>\n",
       "      <td>1.3</td>\n",
       "      <td>0.2</td>\n",
       "      <td>Setosa</td>\n",
       "    </tr>\n",
       "    <tr>\n",
       "      <td>3</td>\n",
       "      <td>4.6</td>\n",
       "      <td>3.1</td>\n",
       "      <td>1.5</td>\n",
       "      <td>0.2</td>\n",
       "      <td>Setosa</td>\n",
       "    </tr>\n",
       "    <tr>\n",
       "      <td>4</td>\n",
       "      <td>5.0</td>\n",
       "      <td>3.6</td>\n",
       "      <td>1.4</td>\n",
       "      <td>0.2</td>\n",
       "      <td>Setosa</td>\n",
       "    </tr>\n",
       "  </tbody>\n",
       "</table>\n",
       "</div>"
      ],
      "text/plain": [
       "   sepal.length  sepal.width  petal.length  petal.width variety\n",
       "0           5.1          3.5           1.4          0.2  Setosa\n",
       "1           4.9          3.0           1.4          0.2  Setosa\n",
       "2           4.7          3.2           1.3          0.2  Setosa\n",
       "3           4.6          3.1           1.5          0.2  Setosa\n",
       "4           5.0          3.6           1.4          0.2  Setosa"
      ]
     },
     "execution_count": 15,
     "metadata": {},
     "output_type": "execute_result"
    }
   ],
   "source": [
    "iris = pd.read_csv('iris.csv')\n",
    "iris.head()\n",
    "\n",
    "# Hint: run iris? to see its type\n",
    "# Hint: Change iris.head() with iris.tail() above to see last 5 entries instead. "
   ]
  },
  {
   "cell_type": "markdown",
   "metadata": {},
   "source": [
    "You can easily see a statistical summary of your dataset by evoking `describe()` method. "
   ]
  },
  {
   "cell_type": "code",
   "execution_count": 16,
   "metadata": {},
   "outputs": [
    {
     "data": {
      "text/html": [
       "<div>\n",
       "<style scoped>\n",
       "    .dataframe tbody tr th:only-of-type {\n",
       "        vertical-align: middle;\n",
       "    }\n",
       "\n",
       "    .dataframe tbody tr th {\n",
       "        vertical-align: top;\n",
       "    }\n",
       "\n",
       "    .dataframe thead th {\n",
       "        text-align: right;\n",
       "    }\n",
       "</style>\n",
       "<table border=\"1\" class=\"dataframe\">\n",
       "  <thead>\n",
       "    <tr style=\"text-align: right;\">\n",
       "      <th></th>\n",
       "      <th>sepal.length</th>\n",
       "      <th>sepal.width</th>\n",
       "      <th>petal.length</th>\n",
       "      <th>petal.width</th>\n",
       "    </tr>\n",
       "  </thead>\n",
       "  <tbody>\n",
       "    <tr>\n",
       "      <td>count</td>\n",
       "      <td>150.000000</td>\n",
       "      <td>150.000000</td>\n",
       "      <td>150.000000</td>\n",
       "      <td>150.000000</td>\n",
       "    </tr>\n",
       "    <tr>\n",
       "      <td>mean</td>\n",
       "      <td>5.843333</td>\n",
       "      <td>3.057333</td>\n",
       "      <td>3.758000</td>\n",
       "      <td>1.199333</td>\n",
       "    </tr>\n",
       "    <tr>\n",
       "      <td>std</td>\n",
       "      <td>0.828066</td>\n",
       "      <td>0.435866</td>\n",
       "      <td>1.765298</td>\n",
       "      <td>0.762238</td>\n",
       "    </tr>\n",
       "    <tr>\n",
       "      <td>min</td>\n",
       "      <td>4.300000</td>\n",
       "      <td>2.000000</td>\n",
       "      <td>1.000000</td>\n",
       "      <td>0.100000</td>\n",
       "    </tr>\n",
       "    <tr>\n",
       "      <td>25%</td>\n",
       "      <td>5.100000</td>\n",
       "      <td>2.800000</td>\n",
       "      <td>1.600000</td>\n",
       "      <td>0.300000</td>\n",
       "    </tr>\n",
       "    <tr>\n",
       "      <td>50%</td>\n",
       "      <td>5.800000</td>\n",
       "      <td>3.000000</td>\n",
       "      <td>4.350000</td>\n",
       "      <td>1.300000</td>\n",
       "    </tr>\n",
       "    <tr>\n",
       "      <td>75%</td>\n",
       "      <td>6.400000</td>\n",
       "      <td>3.300000</td>\n",
       "      <td>5.100000</td>\n",
       "      <td>1.800000</td>\n",
       "    </tr>\n",
       "    <tr>\n",
       "      <td>max</td>\n",
       "      <td>7.900000</td>\n",
       "      <td>4.400000</td>\n",
       "      <td>6.900000</td>\n",
       "      <td>2.500000</td>\n",
       "    </tr>\n",
       "  </tbody>\n",
       "</table>\n",
       "</div>"
      ],
      "text/plain": [
       "       sepal.length  sepal.width  petal.length  petal.width\n",
       "count    150.000000   150.000000    150.000000   150.000000\n",
       "mean       5.843333     3.057333      3.758000     1.199333\n",
       "std        0.828066     0.435866      1.765298     0.762238\n",
       "min        4.300000     2.000000      1.000000     0.100000\n",
       "25%        5.100000     2.800000      1.600000     0.300000\n",
       "50%        5.800000     3.000000      4.350000     1.300000\n",
       "75%        6.400000     3.300000      5.100000     1.800000\n",
       "max        7.900000     4.400000      6.900000     2.500000"
      ]
     },
     "execution_count": 16,
     "metadata": {},
     "output_type": "execute_result"
    }
   ],
   "source": [
    "iris.describe()"
   ]
  },
  {
   "cell_type": "markdown",
   "metadata": {},
   "source": [
    "### Some basic visualizations using Iris dataset\n",
    "\n",
    "Looking at tables and their statistical summaries are useful, but they can't beat data visualization. In the following code cell, we use matplotlib to see the correlations between `width` and `height` of the iris flower for its sepal and petal regions. \n",
    "\n",
    "Hint: Petal length-width correlation is higher than that of sepal length-width.\n",
    "\n",
    "![](http://s5047.pcdn.co/wp-content/uploads/2015/04/iris_petal_sepal.png)"
   ]
  },
  {
   "cell_type": "code",
   "execution_count": 18,
   "metadata": {},
   "outputs": [
    {
     "name": "stderr",
     "output_type": "stream",
     "text": [
      "//anaconda2/envs/py36/lib/python3.6/site-packages/ipykernel_launcher.py:25: UserWarning: Matplotlib is currently using module://ipykernel.pylab.backend_inline, which is a non-GUI backend, so cannot show the figure.\n"
     ]
    },
    {
     "data": {
      "text/plain": [
       "<Figure size 432x288 with 0 Axes>"
      ]
     },
     "metadata": {},
     "output_type": "display_data"
    },
    {
     "data": {
      "image/png": "[encoded data removed]",
      "text/plain": [
       "<Figure size 1224x648 with 2 Axes>"
      ]
     },
     "metadata": {
      "needs_background": "light"
     },
     "output_type": "display_data"
    }
   ],
   "source": [
    "# Import matplotlib. Use plt as proxy to access package modules\n",
    "import matplotlib.pyplot as plt\n",
    "\n",
    "# Create a figure \n",
    "plt.figure()\n",
    "\n",
    "# Split figure into subplots 1 row, 2 columns \n",
    "fig,ax=plt.subplots(1,2,figsize=(17, 9))\n",
    "\n",
    "# Use iris.plot() method to create scatter plots. Remember that \n",
    "# iris is an pandas object. To see the full reference of \n",
    "# pandas.DataFrame.plot visit: \n",
    "# https://pandas.pydata.org/pandas-docs/version/0.23.4/generated/pandas.DataFrame.plot.html\n",
    "\n",
    "iris.plot(x=\"sepal.length\",y=\"sepal.width\",kind=\"scatter\",ax=ax[0],sharex=False,sharey=False,label=\"sepal\",color='r')\n",
    "iris.plot(x=\"petal.length\",y=\"petal.width\",kind=\"scatter\",ax=ax[1],sharex=False,sharey=False,label=\"petal\",color='b')\n",
    "\n",
    "# Set axes labels for subplots. \n",
    "ax[0].set(title='Sepal comparasion ', ylabel='sepal-width')\n",
    "ax[1].set(title='Petal Comparasion',  ylabel='petal-width')\n",
    "ax[0].legend()\n",
    "ax[1].legend()\n",
    "\n",
    "# Show the plots\n",
    "fig.show()"
   ]
  },
  {
   "cell_type": "code",
   "execution_count": null,
   "metadata": {},
   "outputs": [],
   "source": []
  },
  {
   "cell_type": "code",
   "execution_count": null,
   "metadata": {},
   "outputs": [],
   "source": []
  }
 ],
 "metadata": {
  "kernelspec": {
   "display_name": "Python 3",
   "language": "python",
   "name": "python3"
  },
  "language_info": {
   "codemirror_mode": {
    "name": "ipython",
    "version": 3
   },
   "file_extension": ".py",
   "mimetype": "text/x-python",
   "name": "python",
   "nbconvert_exporter": "python",
   "pygments_lexer": "ipython3",
   "version": "3.6.9"
  }
 },
 "nbformat": 4,
 "nbformat_minor": 2
}
